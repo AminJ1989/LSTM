{
  "nbformat": 4,
  "nbformat_minor": 0,
  "metadata": {
    "colab": {
      "provenance": [],
      "authorship_tag": "ABX9TyNdcLBMOlB6NU83Sksw7h81",
      "include_colab_link": true
    },
    "kernelspec": {
      "name": "python3",
      "display_name": "Python 3"
    },
    "language_info": {
      "name": "python"
    }
  },
  "cells": [
    {
      "cell_type": "markdown",
      "metadata": {
        "id": "view-in-github",
        "colab_type": "text"
      },
      "source": [
        "<a href=\"https://colab.research.google.com/github/AminJ1989/LSTM/blob/main/FOREX_Next_Day_LSTM_Prediction.ipynb\" target=\"_parent\"><img src=\"https://colab.research.google.com/assets/colab-badge.svg\" alt=\"Open In Colab\"/></a>"
      ]
    },
    {
      "cell_type": "code",
      "source": [
        "# This Python 3 environment comes with many helpful analytics libraries installed\n",
        "# It is defined by the kaggle/python Docker image: https://github.com/kaggle/docker-python\n",
        "# For example, here's several helpful packages to load\n",
        "\n",
        "import numpy as np # linear algebra\n",
        "import pandas as pd # data processing, CSV file I/O (e.g. pd.read_csv)\n",
        "\n",
        "# Input data files are available in the read-only \"../input/\" directory\n",
        "# For example, running this (by clicking run or pressing Shift+Enter) will list all files under the input directory\n",
        "\n",
        "import os\n",
        "for dirname, _, filenames in os.walk('/kaggle/input'):\n",
        "    for filename in filenames:\n",
        "        print(os.path.join(dirname, filename))\n",
        "\n",
        "# You can write up to 20GB to the current directory (/kaggle/working/) that gets preserved as output when you create a version using \"Save & Run All\"\n",
        "# You can also write temporary files to /kaggle/temp/, but they won't be saved outside of the current session"
      ],
      "metadata": {
        "id": "Q1MFkMVOGUFz"
      },
      "execution_count": 27,
      "outputs": []
    },
    {
      "cell_type": "code",
      "source": [
        "pip install yfinance"
      ],
      "metadata": {
        "colab": {
          "base_uri": "https://localhost:8080/"
        },
        "id": "4wGkiRiNGW5o",
        "outputId": "954108aa-e6ae-44d6-d868-0cc8f38b4e2f"
      },
      "execution_count": 28,
      "outputs": [
        {
          "output_type": "stream",
          "name": "stdout",
          "text": [
            "Requirement already satisfied: yfinance in /usr/local/lib/python3.10/dist-packages (0.2.37)\n",
            "Requirement already satisfied: pandas>=1.3.0 in /usr/local/lib/python3.10/dist-packages (from yfinance) (1.5.3)\n",
            "Requirement already satisfied: numpy>=1.16.5 in /usr/local/lib/python3.10/dist-packages (from yfinance) (1.25.2)\n",
            "Requirement already satisfied: requests>=2.31 in /usr/local/lib/python3.10/dist-packages (from yfinance) (2.31.0)\n",
            "Requirement already satisfied: multitasking>=0.0.7 in /usr/local/lib/python3.10/dist-packages (from yfinance) (0.0.11)\n",
            "Requirement already satisfied: lxml>=4.9.1 in /usr/local/lib/python3.10/dist-packages (from yfinance) (4.9.4)\n",
            "Requirement already satisfied: appdirs>=1.4.4 in /usr/local/lib/python3.10/dist-packages (from yfinance) (1.4.4)\n",
            "Requirement already satisfied: pytz>=2022.5 in /usr/local/lib/python3.10/dist-packages (from yfinance) (2023.4)\n",
            "Requirement already satisfied: frozendict>=2.3.4 in /usr/local/lib/python3.10/dist-packages (from yfinance) (2.4.0)\n",
            "Requirement already satisfied: peewee>=3.16.2 in /usr/local/lib/python3.10/dist-packages (from yfinance) (3.17.1)\n",
            "Requirement already satisfied: beautifulsoup4>=4.11.1 in /usr/local/lib/python3.10/dist-packages (from yfinance) (4.12.3)\n",
            "Requirement already satisfied: html5lib>=1.1 in /usr/local/lib/python3.10/dist-packages (from yfinance) (1.1)\n",
            "Requirement already satisfied: soupsieve>1.2 in /usr/local/lib/python3.10/dist-packages (from beautifulsoup4>=4.11.1->yfinance) (2.5)\n",
            "Requirement already satisfied: six>=1.9 in /usr/local/lib/python3.10/dist-packages (from html5lib>=1.1->yfinance) (1.16.0)\n",
            "Requirement already satisfied: webencodings in /usr/local/lib/python3.10/dist-packages (from html5lib>=1.1->yfinance) (0.5.1)\n",
            "Requirement already satisfied: python-dateutil>=2.8.1 in /usr/local/lib/python3.10/dist-packages (from pandas>=1.3.0->yfinance) (2.8.2)\n",
            "Requirement already satisfied: charset-normalizer<4,>=2 in /usr/local/lib/python3.10/dist-packages (from requests>=2.31->yfinance) (3.3.2)\n",
            "Requirement already satisfied: idna<4,>=2.5 in /usr/local/lib/python3.10/dist-packages (from requests>=2.31->yfinance) (3.6)\n",
            "Requirement already satisfied: urllib3<3,>=1.21.1 in /usr/local/lib/python3.10/dist-packages (from requests>=2.31->yfinance) (2.0.7)\n",
            "Requirement already satisfied: certifi>=2017.4.17 in /usr/local/lib/python3.10/dist-packages (from requests>=2.31->yfinance) (2024.2.2)\n"
          ]
        }
      ]
    },
    {
      "cell_type": "code",
      "source": [
        "pip install backtrader"
      ],
      "metadata": {
        "colab": {
          "base_uri": "https://localhost:8080/"
        },
        "id": "2UGX2GG9GZAt",
        "outputId": "8d02cac3-9627-4049-b8fd-5e8fbf4dae13"
      },
      "execution_count": 46,
      "outputs": [
        {
          "output_type": "stream",
          "name": "stdout",
          "text": [
            "Requirement already satisfied: backtrader in /usr/local/lib/python3.10/dist-packages (1.9.78.123)\n"
          ]
        }
      ]
    },
    {
      "cell_type": "code",
      "source": [
        "import numpy as np\n",
        "import pandas as pd\n",
        "from statistics import fmean\n",
        "import matplotlib.pyplot as plt\n",
        "import plotly.graph_objects as go\n",
        "from sklearn.model_selection import TimeSeriesSplit, train_test_split\n",
        "from sklearn.metrics import mean_squared_error\n",
        "import tensorflow as tf\n",
        "from tensorflow import keras\n",
        "from tensorflow.keras.optimizers import Adam\n",
        "from sklearn.model_selection import train_test_split\n",
        "import yfinance\n",
        "import pandas_datareader as pdr\n",
        "import math\n",
        "from sklearn.preprocessing import MinMaxScaler\n",
        "from keras.models import Sequential\n",
        "from keras.layers import Dense, LSTM\n",
        "from datetime import datetime, timedelta\n",
        "import backtrader as bt\n",
        "from keras.layers import Dropout"
      ],
      "metadata": {
        "id": "VHIqYOleGbCt"
      },
      "execution_count": 30,
      "outputs": []
    },
    {
      "cell_type": "markdown",
      "source": [
        "Function Defintion(s)"
      ],
      "metadata": {
        "id": "oVh_zDQpGeHM"
      }
    },
    {
      "cell_type": "code",
      "source": [
        "# split a univariate sequence into samples for training LSTM\n",
        "def split_sequence(sequence, n_steps):\n",
        "\tX, y = list(), list()\n",
        "\tfor i in range(len(sequence)):\n",
        "\t\t# find the end of this pattern\n",
        "\t\tend_ix = i + n_steps\n",
        "\t\t# check if we are beyond the sequence\n",
        "\t\tif end_ix > len(sequence)-1:\n",
        "\t\t\tbreak\n",
        "\t\t# gather input and output parts of the pattern\n",
        "\t\tseq_x, seq_y = sequence[i:end_ix], sequence[end_ix]\n",
        "\t\tX.append(seq_x)\n",
        "\t\ty.append(seq_y)\n",
        "\treturn np.array(X), np.array(y)\n",
        "\n",
        "# Split a univariate sequence into samples for prediction of the next day\n",
        "def split_sequences_last_n_steps(data, n_steps):\n",
        "    X = []\n",
        "\n",
        "    # Check if the input data is a DataFrame\n",
        "    if isinstance(data, pd.DataFrame):\n",
        "        # Convert the DataFrame to a NumPy array\n",
        "        sequences = data.to_numpy()\n",
        "\n",
        "        # Check if the dataframe has enough data points\n",
        "        if len(sequences) < n_steps:\n",
        "            raise ValueError(\"The number of data points is less than n_steps.\")\n",
        "\n",
        "        # Extract the last n_steps values as the input sequence\n",
        "        input_sequence = sequences[-n_steps:]\n",
        "\n",
        "        X.append(input_sequence)\n",
        "\n",
        "    # Check if the input data is a list\n",
        "    elif isinstance(data, list):\n",
        "        # Check if the list has enough data points\n",
        "        if len(data) < n_steps:\n",
        "            raise ValueError(\"The number of data points is less than n_steps.\")\n",
        "\n",
        "        # Extract the last n_steps values as the input sequence\n",
        "        input_sequence = data[-n_steps:]\n",
        "\n",
        "        X.append(input_sequence)\n",
        "\n",
        "    else:\n",
        "        raise TypeError(\"Input data must be a DataFrame or a list.\")\n",
        "\n",
        "    return np.array(X)"
      ],
      "metadata": {
        "id": "jt8jDvgEGggT"
      },
      "execution_count": 34,
      "outputs": []
    },
    {
      "cell_type": "markdown",
      "source": [
        "Import Data¶\n"
      ],
      "metadata": {
        "id": "JWqX3QMLGk88"
      }
    },
    {
      "cell_type": "code",
      "source": [
        "# Calculate the start date as \"2012-01-01\"\n",
        "start_date = \"2012-01-01\"\n",
        "\n",
        "# Calculate the end date as \"2015-01-01\"\n",
        "end_date = \"2015-01-01\"\n",
        "\n",
        "# Define the list of currency pairs you want to download\n",
        "currency_pairs = ['EURUSD=X']\n",
        "\n",
        "# Download the exchange rate data using yfinance\n",
        "df = yfinance.download(currency_pairs, start=start_date, end=end_date)"
      ],
      "metadata": {
        "colab": {
          "base_uri": "https://localhost:8080/"
        },
        "id": "KlQETTntGlas",
        "outputId": "1aa69692-33b5-4d27-b666-bc7c92e465af"
      },
      "execution_count": 32,
      "outputs": [
        {
          "output_type": "stream",
          "name": "stderr",
          "text": [
            "\r[*********************100%%**********************]  1 of 1 completed\n"
          ]
        }
      ]
    },
    {
      "cell_type": "markdown",
      "source": [
        "Train, Validate"
      ],
      "metadata": {
        "id": "yfQONO4ZGnuM"
      }
    },
    {
      "cell_type": "code",
      "source": [
        "%%time\n",
        "\n",
        "# Set random seed for NumPy (choose any seed value you prefer)\n",
        "np.random.seed(42)\n",
        "\n",
        "# Set random seed for TensorFlow (choose any seed value you prefer)\n",
        "tf.random.set_seed(42)\n",
        "\n",
        "# Define the number of time steps for the LSTM model\n",
        "n_steps = 100  # Adjust this value as needed\n",
        "\n",
        "target_column_name = 'Close'\n",
        "X, y = split_sequence(df[target_column_name], n_steps)\n",
        "\n",
        "print(X.shape, y.shape)\n",
        "\n",
        "# Split data into training and testing sets\n",
        "X_train, X_test, y_train, y_test = train_test_split(X, y, test_size=0.2, shuffle=False)\n",
        "\n",
        "# Define your LSTM model\n",
        "model = Sequential()\n",
        "model.add(LSTM(units=256, return_sequences=True, input_shape=(X_train.shape[1], 1)))\n",
        "model.add(LSTM(units=128, return_sequences=False))\n",
        "model.add(Dropout(0.2))\n",
        "model.add(Dense(25))\n",
        "model.add(Dense(1))\n",
        "\n",
        "# Compile the model with the best optimizer and learning rate\n",
        "opt = Adam(learning_rate=0.001)  # Use the best learning rate\n",
        "model.compile(optimizer=opt, loss='mean_squared_error')\n",
        "\n",
        "# Summary of the model\n",
        "model.summary()\n",
        "\n",
        "# Train the model on X_train and y_train with the best batch size and epochs\n",
        "model.fit(X_train, y_train, batch_size=1, epochs=20)\n",
        "\n",
        "# Make predictions for the last month of data\n",
        "predicted_values = model.predict(X_test)\n",
        "\n",
        "# Create a DataFrame for the last month of actual and predicted data\n",
        "last_month_data = pd.DataFrame({'Actual': y_test, 'Predicted': predicted_values.flatten()}, index=df.index[-len(X_test):])\n",
        "\n",
        "# Calculate the Simple Moving Average (SMA)\n",
        "sma_window = 7  # Adjust the window size as needed\n",
        "last_month_data['SMA'] = last_month_data['Actual'].rolling(window=sma_window).mean()\n",
        "last_month_data['LTA'] = last_month_data['Actual'].mean()\n",
        "\n",
        "# Plot the actual, predicted, and SMA data\n",
        "plt.figure(figsize=(12, 6))\n",
        "plt.plot(last_month_data.index, last_month_data['Actual'], label='Actual', marker='o')\n",
        "plt.plot(last_month_data.index, last_month_data['Predicted'], label='Predicted', marker='x')\n",
        "plt.plot(last_month_data.index, last_month_data['SMA'], label=f'SMA-{sma_window}', linestyle='--', color='orange')\n",
        "plt.plot(last_month_data.index, last_month_data['LTA'], label=f'LTA', linestyle='--', color='black')\n",
        "plt.xlabel('Date')\n",
        "plt.ylabel('Close Price')\n",
        "plt.title('Actual vs. Predicted Close Price with SMA')\n",
        "plt.legend()\n",
        "plt.grid(True)\n",
        "plt.show()"
      ],
      "metadata": {
        "colab": {
          "base_uri": "https://localhost:8080/",
          "height": 1000
        },
        "id": "BMB23kDCGpvQ",
        "outputId": "52270e90-daa5-4ebc-af98-65007e6a9978"
      },
      "execution_count": 35,
      "outputs": [
        {
          "output_type": "stream",
          "name": "stdout",
          "text": [
            "(681, 100) (681,)\n",
            "Model: \"sequential\"\n",
            "_________________________________________________________________\n",
            " Layer (type)                Output Shape              Param #   \n",
            "=================================================================\n",
            " lstm (LSTM)                 (None, 100, 256)          264192    \n",
            "                                                                 \n",
            " lstm_1 (LSTM)               (None, 128)               197120    \n",
            "                                                                 \n",
            " dropout (Dropout)           (None, 128)               0         \n",
            "                                                                 \n",
            " dense (Dense)               (None, 25)                3225      \n",
            "                                                                 \n",
            " dense_1 (Dense)             (None, 1)                 26        \n",
            "                                                                 \n",
            "=================================================================\n",
            "Total params: 464563 (1.77 MB)\n",
            "Trainable params: 464563 (1.77 MB)\n",
            "Non-trainable params: 0 (0.00 Byte)\n",
            "_________________________________________________________________\n",
            "Epoch 1/20\n",
            "544/544 [==============================] - 115s 203ms/step - loss: 0.0244\n",
            "Epoch 2/20\n",
            "544/544 [==============================] - 112s 206ms/step - loss: 0.0076\n",
            "Epoch 3/20\n",
            "544/544 [==============================] - 112s 205ms/step - loss: 0.0046\n",
            "Epoch 4/20\n",
            "544/544 [==============================] - 112s 206ms/step - loss: 0.0049\n",
            "Epoch 5/20\n",
            "544/544 [==============================] - 111s 204ms/step - loss: 0.0035\n",
            "Epoch 6/20\n",
            "544/544 [==============================] - 113s 208ms/step - loss: 0.0030\n",
            "Epoch 7/20\n",
            "544/544 [==============================] - 110s 202ms/step - loss: 0.0026\n",
            "Epoch 8/20\n",
            "544/544 [==============================] - 113s 207ms/step - loss: 0.0022\n",
            "Epoch 9/20\n",
            "544/544 [==============================] - 111s 205ms/step - loss: 0.0020\n",
            "Epoch 10/20\n",
            "544/544 [==============================] - 112s 206ms/step - loss: 0.0016\n",
            "Epoch 11/20\n",
            "544/544 [==============================] - 111s 205ms/step - loss: 0.0014\n",
            "Epoch 12/20\n",
            "544/544 [==============================] - 113s 207ms/step - loss: 8.8574e-04\n",
            "Epoch 13/20\n",
            "544/544 [==============================] - 110s 203ms/step - loss: 4.6721e-04\n",
            "Epoch 14/20\n",
            "544/544 [==============================] - 113s 208ms/step - loss: 3.8705e-04\n",
            "Epoch 15/20\n",
            "544/544 [==============================] - 112s 205ms/step - loss: 3.8667e-04\n",
            "Epoch 16/20\n",
            "544/544 [==============================] - 112s 205ms/step - loss: 4.0703e-04\n",
            "Epoch 17/20\n",
            "544/544 [==============================] - 111s 204ms/step - loss: 2.9984e-04\n",
            "Epoch 18/20\n",
            "544/544 [==============================] - 110s 202ms/step - loss: 2.8278e-04\n",
            "Epoch 19/20\n",
            "544/544 [==============================] - 110s 203ms/step - loss: 3.3600e-04\n",
            "Epoch 20/20\n",
            "544/544 [==============================] - 110s 203ms/step - loss: 3.4763e-04\n",
            "5/5 [==============================] - 2s 187ms/step\n"
          ]
        },
        {
          "output_type": "display_data",
          "data": {
            "text/plain": [
              "<Figure size 1200x600 with 1 Axes>"
            ],
            "image/png": "[encoded data removed]"
          },
          "metadata": {}
        },
        {
          "output_type": "stream",
          "name": "stdout",
          "text": [
            "CPU times: user 43min 9s, sys: 15min 33s, total: 58min 43s\n",
            "Wall time: 37min 29s\n"
          ]
        }
      ]
    },
    {
      "cell_type": "markdown",
      "source": [
        "Mean Squared Error"
      ],
      "metadata": {
        "id": "IS0gIXsUGw7N"
      }
    },
    {
      "cell_type": "code",
      "source": [
        "mse = mean_squared_error(last_month_data['Actual'], last_month_data['Predicted'])\n",
        "mse"
      ],
      "metadata": {
        "id": "3ylvNoA1Gxbl",
        "colab": {
          "base_uri": "https://localhost:8080/"
        },
        "outputId": "bc62b6b7-8f14-46dc-9450-643a1fdb01a9"
      },
      "execution_count": 36,
      "outputs": [
        {
          "output_type": "execute_result",
          "data": {
            "text/plain": [
              "0.00020603603566081034"
            ]
          },
          "metadata": {},
          "execution_count": 36
        }
      ]
    },
    {
      "cell_type": "markdown",
      "source": [
        "Prediction"
      ],
      "metadata": {
        "id": "PY-yKg79G0jO"
      }
    },
    {
      "cell_type": "markdown",
      "source": [],
      "metadata": {
        "id": "X6uaTmfCG58T"
      }
    },
    {
      "cell_type": "code",
      "source": [
        "# Prepare input data for a single time step\n",
        "# You can use the last n_steps values from your testing data\n",
        "last_input_sequence = split_sequences_last_n_steps(df[target_column_name].tolist(), n_steps)  # Use the last n_steps values\n",
        "\n",
        "# Use the trained model to make a prediction\n",
        "predicted_value = model.predict(last_input_sequence)\n",
        "\n",
        "# Print the predicted value\n",
        "print(f\"Predicted Value for the Next Time Step: {predicted_value[0][0]}\")"
      ],
      "metadata": {
        "id": "BGwkjOhuG31V",
        "colab": {
          "base_uri": "https://localhost:8080/"
        },
        "outputId": "da1fc346-2a93-407e-cf96-ac7b4a8b40db"
      },
      "execution_count": 37,
      "outputs": [
        {
          "output_type": "stream",
          "name": "stdout",
          "text": [
            "1/1 [==============================] - 0s 56ms/step\n",
            "Predicted Value for the Next Time Step: 1.2183609008789062\n"
          ]
        }
      ]
    },
    {
      "cell_type": "markdown",
      "source": [
        "Backtrader Simulation"
      ],
      "metadata": {
        "id": "b8rurf1SG7sb"
      }
    },
    {
      "cell_type": "code",
      "source": [
        "# Download historical data from Yahoo Finance\n",
        "symbol = \"EURUSD=X\"\n",
        "start_date = \"2015-01-01\"\n",
        "end_date = \"2018-01-01\"\n",
        "data = yfinance.download(symbol, start=start_date, end=end_date)\n",
        "\n",
        "# Convert the downloaded data to a Backtrader data feed\n",
        "data = bt.feeds.PandasData(dataname=data)"
      ],
      "metadata": {
        "id": "VjXd-i_bG99M",
        "colab": {
          "base_uri": "https://localhost:8080/"
        },
        "outputId": "00504e90-f147-468e-d3eb-7dfd47a72267"
      },
      "execution_count": 39,
      "outputs": [
        {
          "output_type": "stream",
          "name": "stderr",
          "text": [
            "\r[*********************100%%**********************]  1 of 1 completed\n"
          ]
        }
      ]
    },
    {
      "cell_type": "markdown",
      "source": [
        "Strategy"
      ],
      "metadata": {
        "id": "z6gwJQuRHAEj"
      }
    },
    {
      "cell_type": "code",
      "source": [
        "class MyForexStrategy(bt.Strategy):\n",
        "    params = (\n",
        "        (\"lstm_model\", model),  # trained LSTM model\n",
        "        (\"buy_threshold\", 0.0),\n",
        "        (\"sell_threshold\", 0.0),\n",
        "        (\"initial_balance_eur\", 10000),  # Initial balance in EUR\n",
        "        (\"initial_balance_usd\", 10000), # Initial balance in USD\n",
        "        (\"last_prediction\", 0),\n",
        "        (\"verbose\", False),  # Flag to control printing\n",
        "    )\n",
        "\n",
        "    def __init__(self):\n",
        "        self.dataclose = self.datas[0].close\n",
        "        self.predicted_price = None\n",
        "        self.balance_eur = self.params.initial_balance_eur\n",
        "        self.balance_usd = self.params.initial_balance_usd\n",
        "        self.last_prediction = 0\n",
        "        self.pnl = 0  # Initialize profit/loss to zero\n",
        "\n",
        "        self.pnlhist = pd.Series()\n",
        "        self.predicted_price = list()\n",
        "\n",
        "        # default wait 7 days before making another trade\n",
        "        self.days = 7\n",
        "        self.dayCount = 0\n",
        "\n",
        "    def next(self):\n",
        "        # set the last prediction to the current close if it is equal to zero\n",
        "        if self.last_prediction == 0:\n",
        "            self.last_prediction = self.dataclose[0]\n",
        "            print(\"Initial Balance: \" + str(self.params.initial_balance_usd / self.dataclose[0] + self.params.initial_balance_eur))\n",
        "\n",
        "        # only buy/sell once every self.days (default = 7)\n",
        "        if self.dayCount >= self.days:\n",
        "            # reset dayCount\n",
        "            self.dayCount = 0\n",
        "\n",
        "            # Create a list to store the last 100 close prices\n",
        "            close_prices = [self.dataclose[i] for i in range(-200, 0)]\n",
        "\n",
        "            # Create a DataFrame from the list of close prices\n",
        "            historical_data = close_prices\n",
        "\n",
        "            # begin loop at 0\n",
        "            i=0\n",
        "\n",
        "            # predict the next 10 values\n",
        "            while i < 10:\n",
        "                #print(i)\n",
        "                # reshape historical_data into (x, 100, 1), preparing it for Neural Network's first layer\n",
        "                #print(\"historical_data: \"+ str(historical_data.shape))\n",
        "                historical_data_nn_reshape = split_sequence(historical_data, 100)\n",
        "                #print(\"historical_data_nn_reshape: \"+ str(historical_data_nn_reshape.shape))\n",
        "\n",
        "                # apply model to current historical_data\n",
        "                pred_price = self.params.lstm_model.predict(historical_data_nn_reshape)[0][0]\n",
        "                #print(\"added to predicted_price = \"+ str(pred_price))\n",
        "                self.predicted_price.append(pred_price)\n",
        "                i+=1\n",
        "                #print(\"added to historical data = \"+ str(self.predicted_price))\n",
        "                historical_data.append(pred_price)\n",
        "\n",
        "            # calculate the n-Day rolling average price\n",
        "            nday_rollAvg_price = fmean(self.predicted_price)\n",
        "\n",
        "            print(\"nDay Rolling Average Price: \" + str(nday_rollAvg_price))\n",
        "            print(\"Last Prediction: \" + str(self.last_prediction))\n",
        "\n",
        "            # if it's higher than the last prediction by a certain threshold, sell EUR & buy USD\n",
        "            if nday_rollAvg_price < self.last_prediction * (1 - self.params.sell_threshold):\n",
        "                sell_amount_eur = self.balance_eur * 0.25\n",
        "\n",
        "                # only replace the last prediction if we actually would have made a trade\n",
        "                self.last_prediction = nday_rollAvg_price\n",
        "\n",
        "                if sell_amount_eur >= 100:\n",
        "                    # Convert EUR to USD at the exchange rate and update balances\n",
        "                    self.balance_usd += sell_amount_eur * self.dataclose[0]\n",
        "                    self.balance_eur -= sell_amount_eur\n",
        "\n",
        "                    self.sell(size=sell_amount_eur)\n",
        "\n",
        "                    print('Closing Exchange Rate: ' + str(self.dataclose[0]))\n",
        "                    print('Predicted 10-day Rolling Average Closing Exchange Rate: ' + str(nday_rollAvg_price))\n",
        "                    print(str(self.data.datetime.datetime(0)) + ': Selling EUR - ' + str(sell_amount_eur))\n",
        "                    #print(str(self.data.datetime.datetime(0)) + ': Current EUR Balance - ' + str(self.balance_eur))\n",
        "                    #print(str(self.data.datetime.datetime(0)) + ': Current USD Balance - ' + str(self.balance_usd))\n",
        "                    print(str(self.data.datetime.datetime(0)) + ': Current Total Balance (EUR) - ' + str(self.balance_usd / self.dataclose[0] + self.balance_eur))\n",
        "\n",
        "                    # Calculate profit/loss for the sell operation\n",
        "                    self.pnl += (self.balance_usd / self.dataclose[0] + self.balance_eur) - (\n",
        "                            self.params.initial_balance_usd / self.dataclose[0] + self.params.initial_balance_eur)\n",
        "                else:\n",
        "                    print(\"Sell Amount would be less than 100\")\n",
        "\n",
        "            # if it's lower than the last prediction by a certain threshold, buy EUR & sell USD\n",
        "            elif nday_rollAvg_price > self.last_prediction * (1 + self.params.buy_threshold):\n",
        "                # Buy an amount equivalent to 25% of current USD holdings\n",
        "                buy_amount_usd = self.balance_usd * 0.25\n",
        "\n",
        "                # only replace the last prediction if we actually would have made a trade\n",
        "                self.last_prediction = nday_rollAvg_price\n",
        "\n",
        "                if buy_amount_usd >= 100:\n",
        "                    # Convert USD to EUR at the exchange rate and update balances\n",
        "                    self.balance_eur += buy_amount_usd / self.dataclose[0]\n",
        "                    self.balance_usd -= buy_amount_usd\n",
        "\n",
        "                    self.buy(size=(buy_amount_usd / self.dataclose[0]))\n",
        "\n",
        "                    print('Closing Exchange Rate: ' + str(self.dataclose[0]))\n",
        "                    print('Predicted 10-day Rolling Average Closing Exchange Rate: ' + str(nday_rollAvg_price))\n",
        "                    print(str(self.data.datetime.datetime(0)) + ': Buying EUR - ' + str(buy_amount_usd))\n",
        "                    #print(str(self.data.datetime.datetime(0)) + ': Current EUR Balance - ' + str(self.balance_eur))\n",
        "                    #print(str(self.data.datetime.datetime(0)) + ': Current USD Balance - ' + str(self.balance_usd))\n",
        "                    print(str(self.data.datetime.datetime(0)) + ': Current Total Balance (EUR) - ' + str(self.balance_usd / self.dataclose[0] + self.balance_eur))\n",
        "\n",
        "                    # Calculate profit/loss for the buy operation\n",
        "                    self.pnl += (self.balance_usd / self.dataclose[0] + self.balance_eur) - (\n",
        "                            self.params.initial_balance_usd / self.dataclose[0] + self.params.initial_balance_eur)\n",
        "                else:\n",
        "                    print(\"Buy Amount would be less than 100\")\n",
        "\n",
        "            # Create a new Series with the pnl value you want to add\n",
        "            new_pnl_value = pd.Series([self.pnl])\n",
        "\n",
        "            # Concatenate the new_pnl_value Series with self.pnlhist\n",
        "            self.pnlhist = pd.concat([self.pnlhist, new_pnl_value])\n",
        "\n",
        "            print(\"Current PNL: \" + str(self.pnl))\n",
        "\n",
        "        # days since last trade\n",
        "        self.dayCount += 1\n",
        "        print(self.dayCount)\n",
        "\n",
        "        return self.pnlhist"
      ],
      "metadata": {
        "id": "6LWWQ2tkHDut"
      },
      "execution_count": 44,
      "outputs": []
    },
    {
      "cell_type": "markdown",
      "source": [
        "Analyzer"
      ],
      "metadata": {
        "id": "lfqBWwheHEa-"
      }
    },
    {
      "cell_type": "code",
      "source": [],
      "metadata": {
        "id": "r0lc0YGUIjhq"
      },
      "execution_count": null,
      "outputs": []
    },
    {
      "cell_type": "code",
      "source": [
        "class MyAnalyzer(bt.Analyzer):\n",
        "    params = (\n",
        "        (\"initial_balance_eur\", 10000),\n",
        "        (\"initial_balance_usd\", 10000),\n",
        "    )\n",
        "\n",
        "    def __init__(self):\n",
        "        self.pnl = []  # List to store daily P&L values\n",
        "\n",
        "    def start(self):\n",
        "        # Initialize P&L with the initial balance\n",
        "        self.pnl.append(self.params.initial_balance_eur + self.params.initial_balance_usd / self.strategy.dataclose[0])\n",
        "\n",
        "    def notify_order(self, order):\n",
        "        if order.status in [order.Completed]:\n",
        "            # Calculate P&L after each completed order\n",
        "            self.pnl.append(self.strategy.balance_eur + self.strategy.balance_usd / self.strategy.dataclose[0])\n",
        "\n",
        "    def get_analysis(self):\n",
        "        return {\"pnl\": self.pnl}"
      ],
      "metadata": {
        "id": "1AFfhOPuHHyB"
      },
      "execution_count": 41,
      "outputs": []
    },
    {
      "cell_type": "markdown",
      "source": [
        "Simulation"
      ],
      "metadata": {
        "id": "qg_4ruLwHKE1"
      }
    },
    {
      "cell_type": "code",
      "source": [
        "%%time\n",
        "\n",
        "if __name__ == \"__main__\":\n",
        "    # Initialize and run the Backtrader engine with your data\n",
        "    cerebro = bt.Cerebro(optreturn=False, optdatas=True)\n",
        "\n",
        "    # Add data and strategy\n",
        "    cerebro.adddata(data)\n",
        "    my_strategy = MyForexStrategy  # Replace this with your strategy\n",
        "    cerebro.addstrategy(my_strategy, lstm_model=model)\n",
        "\n",
        "    # Add the custom analyzer to cerebro\n",
        "    cerebro.addanalyzer(MyAnalyzer, _name=\"myanalyzer\")\n",
        "\n",
        "    # Run the backtest\n",
        "    cerebro.run()"
      ],
      "metadata": {
        "id": "Ch2NUrT_HL31",
        "colab": {
          "base_uri": "https://localhost:8080/",
          "height": 911
        },
        "outputId": "75d2d898-39f8-47d7-dc8a-3b65b4905e95"
      },
      "execution_count": 49,
      "outputs": [
        {
          "output_type": "stream",
          "name": "stdout",
          "text": [
            "Initial Balance: 18265.399817618665\n",
            "1\n",
            "2\n",
            "3\n",
            "4\n",
            "5\n",
            "6\n",
            "7\n"
          ]
        },
        {
          "output_type": "stream",
          "name": "stderr",
          "text": [
            "<ipython-input-44-2b6b3bb2caa0>:20: FutureWarning: The default dtype for empty Series will be 'object' instead of 'float64' in a future version. Specify a dtype explicitly to silence this warning.\n",
            "  self.pnlhist = pd.Series()\n"
          ]
        },
        {
          "output_type": "error",
          "ename": "ValueError",
          "evalue": "in user code:\n\n    File \"/usr/local/lib/python3.10/dist-packages/keras/src/engine/training.py\", line 2440, in predict_function  *\n        return step_function(self, iterator)\n    File \"/usr/local/lib/python3.10/dist-packages/keras/src/engine/training.py\", line 2425, in step_function  **\n        outputs = model.distribute_strategy.run(run_step, args=(data,))\n    File \"/usr/local/lib/python3.10/dist-packages/keras/src/engine/training.py\", line 2413, in run_step  **\n        outputs = model.predict_step(data)\n    File \"/usr/local/lib/python3.10/dist-packages/keras/src/engine/training.py\", line 2381, in predict_step\n        return self(x, training=False)\n    File \"/usr/local/lib/python3.10/dist-packages/keras/src/utils/traceback_utils.py\", line 70, in error_handler\n        raise e.with_traceback(filtered_tb) from None\n    File \"/usr/local/lib/python3.10/dist-packages/keras/src/engine/input_spec.py\", line 219, in assert_input_compatibility\n        raise ValueError(\n\n    ValueError: Layer \"sequential\" expects 1 input(s), but it received 2 input tensors. Inputs received: [<tf.Tensor 'IteratorGetNext:0' shape=(None, 100) dtype=float32>, <tf.Tensor 'IteratorGetNext:1' shape=(None,) dtype=float32>]\n",
          "traceback": [
            "\u001b[0;31m---------------------------------------------------------------------------\u001b[0m",
            "\u001b[0;31mValueError\u001b[0m                                Traceback (most recent call last)",
            "\u001b[0;32m<timed exec>\u001b[0m in \u001b[0;36m<module>\u001b[0;34m\u001b[0m\n",
            "\u001b[0;32m/usr/local/lib/python3.10/dist-packages/backtrader/cerebro.py\u001b[0m in \u001b[0;36mrun\u001b[0;34m(self, **kwargs)\u001b[0m\n\u001b[1;32m   1130\u001b[0m             \u001b[0;31m# let's skip process \"spawning\"\u001b[0m\u001b[0;34m\u001b[0m\u001b[0;34m\u001b[0m\u001b[0m\n\u001b[1;32m   1131\u001b[0m             \u001b[0;32mfor\u001b[0m \u001b[0miterstrat\u001b[0m \u001b[0;32min\u001b[0m \u001b[0miterstrats\u001b[0m\u001b[0;34m:\u001b[0m\u001b[0;34m\u001b[0m\u001b[0;34m\u001b[0m\u001b[0m\n\u001b[0;32m-> 1132\u001b[0;31m                 \u001b[0mrunstrat\u001b[0m \u001b[0;34m=\u001b[0m \u001b[0mself\u001b[0m\u001b[0;34m.\u001b[0m\u001b[0mrunstrategies\u001b[0m\u001b[0;34m(\u001b[0m\u001b[0miterstrat\u001b[0m\u001b[0;34m)\u001b[0m\u001b[0;34m\u001b[0m\u001b[0;34m\u001b[0m\u001b[0m\n\u001b[0m\u001b[1;32m   1133\u001b[0m                 \u001b[0mself\u001b[0m\u001b[0;34m.\u001b[0m\u001b[0mrunstrats\u001b[0m\u001b[0;34m.\u001b[0m\u001b[0mappend\u001b[0m\u001b[0;34m(\u001b[0m\u001b[0mrunstrat\u001b[0m\u001b[0;34m)\u001b[0m\u001b[0;34m\u001b[0m\u001b[0;34m\u001b[0m\u001b[0m\n\u001b[1;32m   1134\u001b[0m                 \u001b[0;32mif\u001b[0m \u001b[0mself\u001b[0m\u001b[0;34m.\u001b[0m\u001b[0m_dooptimize\u001b[0m\u001b[0;34m:\u001b[0m\u001b[0;34m\u001b[0m\u001b[0;34m\u001b[0m\u001b[0m\n",
            "\u001b[0;32m/usr/local/lib/python3.10/dist-packages/backtrader/cerebro.py\u001b[0m in \u001b[0;36mrunstrategies\u001b[0;34m(self, iterstrat, predata)\u001b[0m\n\u001b[1;32m   1296\u001b[0m                     \u001b[0mself\u001b[0m\u001b[0;34m.\u001b[0m\u001b[0m_runonce_old\u001b[0m\u001b[0;34m(\u001b[0m\u001b[0mrunstrats\u001b[0m\u001b[0;34m)\u001b[0m\u001b[0;34m\u001b[0m\u001b[0;34m\u001b[0m\u001b[0m\n\u001b[1;32m   1297\u001b[0m                 \u001b[0;32melse\u001b[0m\u001b[0;34m:\u001b[0m\u001b[0;34m\u001b[0m\u001b[0;34m\u001b[0m\u001b[0m\n\u001b[0;32m-> 1298\u001b[0;31m                     \u001b[0mself\u001b[0m\u001b[0;34m.\u001b[0m\u001b[0m_runonce\u001b[0m\u001b[0;34m(\u001b[0m\u001b[0mrunstrats\u001b[0m\u001b[0;34m)\u001b[0m\u001b[0;34m\u001b[0m\u001b[0;34m\u001b[0m\u001b[0m\n\u001b[0m\u001b[1;32m   1299\u001b[0m             \u001b[0;32melse\u001b[0m\u001b[0;34m:\u001b[0m\u001b[0;34m\u001b[0m\u001b[0;34m\u001b[0m\u001b[0m\n\u001b[1;32m   1300\u001b[0m                 \u001b[0;32mif\u001b[0m \u001b[0mself\u001b[0m\u001b[0;34m.\u001b[0m\u001b[0mp\u001b[0m\u001b[0;34m.\u001b[0m\u001b[0moldsync\u001b[0m\u001b[0;34m:\u001b[0m\u001b[0;34m\u001b[0m\u001b[0;34m\u001b[0m\u001b[0m\n",
            "\u001b[0;32m/usr/local/lib/python3.10/dist-packages/backtrader/cerebro.py\u001b[0m in \u001b[0;36m_runonce\u001b[0;34m(self, runstrats)\u001b[0m\n\u001b[1;32m   1698\u001b[0m \u001b[0;34m\u001b[0m\u001b[0m\n\u001b[1;32m   1699\u001b[0m             \u001b[0;32mfor\u001b[0m \u001b[0mstrat\u001b[0m \u001b[0;32min\u001b[0m \u001b[0mrunstrats\u001b[0m\u001b[0;34m:\u001b[0m\u001b[0;34m\u001b[0m\u001b[0;34m\u001b[0m\u001b[0m\n\u001b[0;32m-> 1700\u001b[0;31m                 \u001b[0mstrat\u001b[0m\u001b[0;34m.\u001b[0m\u001b[0m_oncepost\u001b[0m\u001b[0;34m(\u001b[0m\u001b[0mdt0\u001b[0m\u001b[0;34m)\u001b[0m\u001b[0;34m\u001b[0m\u001b[0;34m\u001b[0m\u001b[0m\n\u001b[0m\u001b[1;32m   1701\u001b[0m                 \u001b[0;32mif\u001b[0m \u001b[0mself\u001b[0m\u001b[0;34m.\u001b[0m\u001b[0m_event_stop\u001b[0m\u001b[0;34m:\u001b[0m  \u001b[0;31m# stop if requested\u001b[0m\u001b[0;34m\u001b[0m\u001b[0;34m\u001b[0m\u001b[0m\n\u001b[1;32m   1702\u001b[0m                     \u001b[0;32mreturn\u001b[0m\u001b[0;34m\u001b[0m\u001b[0;34m\u001b[0m\u001b[0m\n",
            "\u001b[0;32m/usr/local/lib/python3.10/dist-packages/backtrader/strategy.py\u001b[0m in \u001b[0;36m_oncepost\u001b[0;34m(self, dt)\u001b[0m\n\u001b[1;32m    307\u001b[0m         \u001b[0mminperstatus\u001b[0m \u001b[0;34m=\u001b[0m \u001b[0mself\u001b[0m\u001b[0;34m.\u001b[0m\u001b[0m_getminperstatus\u001b[0m\u001b[0;34m(\u001b[0m\u001b[0;34m)\u001b[0m\u001b[0;34m\u001b[0m\u001b[0;34m\u001b[0m\u001b[0m\n\u001b[1;32m    308\u001b[0m         \u001b[0;32mif\u001b[0m \u001b[0mminperstatus\u001b[0m \u001b[0;34m<\u001b[0m \u001b[0;36m0\u001b[0m\u001b[0;34m:\u001b[0m\u001b[0;34m\u001b[0m\u001b[0;34m\u001b[0m\u001b[0m\n\u001b[0;32m--> 309\u001b[0;31m             \u001b[0mself\u001b[0m\u001b[0;34m.\u001b[0m\u001b[0mnext\u001b[0m\u001b[0;34m(\u001b[0m\u001b[0;34m)\u001b[0m\u001b[0;34m\u001b[0m\u001b[0;34m\u001b[0m\u001b[0m\n\u001b[0m\u001b[1;32m    310\u001b[0m         \u001b[0;32melif\u001b[0m \u001b[0mminperstatus\u001b[0m \u001b[0;34m==\u001b[0m \u001b[0;36m0\u001b[0m\u001b[0;34m:\u001b[0m\u001b[0;34m\u001b[0m\u001b[0;34m\u001b[0m\u001b[0m\n\u001b[1;32m    311\u001b[0m             \u001b[0mself\u001b[0m\u001b[0;34m.\u001b[0m\u001b[0mnextstart\u001b[0m\u001b[0;34m(\u001b[0m\u001b[0;34m)\u001b[0m  \u001b[0;31m# only called for the 1st value\u001b[0m\u001b[0;34m\u001b[0m\u001b[0;34m\u001b[0m\u001b[0m\n",
            "\u001b[0;32m<ipython-input-44-2b6b3bb2caa0>\u001b[0m in \u001b[0;36mnext\u001b[0;34m(self)\u001b[0m\n\u001b[1;32m     54\u001b[0m \u001b[0;34m\u001b[0m\u001b[0m\n\u001b[1;32m     55\u001b[0m                 \u001b[0;31m# apply model to current historical_data\u001b[0m\u001b[0;34m\u001b[0m\u001b[0;34m\u001b[0m\u001b[0m\n\u001b[0;32m---> 56\u001b[0;31m                 \u001b[0mpred_price\u001b[0m \u001b[0;34m=\u001b[0m \u001b[0mself\u001b[0m\u001b[0;34m.\u001b[0m\u001b[0mparams\u001b[0m\u001b[0;34m.\u001b[0m\u001b[0mlstm_model\u001b[0m\u001b[0;34m.\u001b[0m\u001b[0mpredict\u001b[0m\u001b[0;34m(\u001b[0m\u001b[0mhistorical_data_nn_reshape\u001b[0m\u001b[0;34m)\u001b[0m\u001b[0;34m[\u001b[0m\u001b[0;36m0\u001b[0m\u001b[0;34m]\u001b[0m\u001b[0;34m[\u001b[0m\u001b[0;36m0\u001b[0m\u001b[0;34m]\u001b[0m\u001b[0;34m\u001b[0m\u001b[0;34m\u001b[0m\u001b[0m\n\u001b[0m\u001b[1;32m     57\u001b[0m                 \u001b[0;31m#print(\"added to predicted_price = \"+ str(pred_price))\u001b[0m\u001b[0;34m\u001b[0m\u001b[0;34m\u001b[0m\u001b[0m\n\u001b[1;32m     58\u001b[0m                 \u001b[0mself\u001b[0m\u001b[0;34m.\u001b[0m\u001b[0mpredicted_price\u001b[0m\u001b[0;34m.\u001b[0m\u001b[0mappend\u001b[0m\u001b[0;34m(\u001b[0m\u001b[0mpred_price\u001b[0m\u001b[0;34m)\u001b[0m\u001b[0;34m\u001b[0m\u001b[0;34m\u001b[0m\u001b[0m\n",
            "\u001b[0;32m/usr/local/lib/python3.10/dist-packages/keras/src/utils/traceback_utils.py\u001b[0m in \u001b[0;36merror_handler\u001b[0;34m(*args, **kwargs)\u001b[0m\n\u001b[1;32m     68\u001b[0m             \u001b[0;31m# To get the full stack trace, call:\u001b[0m\u001b[0;34m\u001b[0m\u001b[0;34m\u001b[0m\u001b[0m\n\u001b[1;32m     69\u001b[0m             \u001b[0;31m# `tf.debugging.disable_traceback_filtering()`\u001b[0m\u001b[0;34m\u001b[0m\u001b[0;34m\u001b[0m\u001b[0m\n\u001b[0;32m---> 70\u001b[0;31m             \u001b[0;32mraise\u001b[0m \u001b[0me\u001b[0m\u001b[0;34m.\u001b[0m\u001b[0mwith_traceback\u001b[0m\u001b[0;34m(\u001b[0m\u001b[0mfiltered_tb\u001b[0m\u001b[0;34m)\u001b[0m \u001b[0;32mfrom\u001b[0m \u001b[0;32mNone\u001b[0m\u001b[0;34m\u001b[0m\u001b[0;34m\u001b[0m\u001b[0m\n\u001b[0m\u001b[1;32m     71\u001b[0m         \u001b[0;32mfinally\u001b[0m\u001b[0;34m:\u001b[0m\u001b[0;34m\u001b[0m\u001b[0;34m\u001b[0m\u001b[0m\n\u001b[1;32m     72\u001b[0m             \u001b[0;32mdel\u001b[0m \u001b[0mfiltered_tb\u001b[0m\u001b[0;34m\u001b[0m\u001b[0;34m\u001b[0m\u001b[0m\n",
            "\u001b[0;32m/usr/local/lib/python3.10/dist-packages/keras/src/engine/training.py\u001b[0m in \u001b[0;36mtf__predict_function\u001b[0;34m(iterator)\u001b[0m\n\u001b[1;32m     13\u001b[0m                 \u001b[0;32mtry\u001b[0m\u001b[0;34m:\u001b[0m\u001b[0;34m\u001b[0m\u001b[0;34m\u001b[0m\u001b[0m\n\u001b[1;32m     14\u001b[0m                     \u001b[0mdo_return\u001b[0m \u001b[0;34m=\u001b[0m \u001b[0;32mTrue\u001b[0m\u001b[0;34m\u001b[0m\u001b[0;34m\u001b[0m\u001b[0m\n\u001b[0;32m---> 15\u001b[0;31m                     \u001b[0mretval_\u001b[0m \u001b[0;34m=\u001b[0m \u001b[0mag__\u001b[0m\u001b[0;34m.\u001b[0m\u001b[0mconverted_call\u001b[0m\u001b[0;34m(\u001b[0m\u001b[0mag__\u001b[0m\u001b[0;34m.\u001b[0m\u001b[0mld\u001b[0m\u001b[0;34m(\u001b[0m\u001b[0mstep_function\u001b[0m\u001b[0;34m)\u001b[0m\u001b[0;34m,\u001b[0m \u001b[0;34m(\u001b[0m\u001b[0mag__\u001b[0m\u001b[0;34m.\u001b[0m\u001b[0mld\u001b[0m\u001b[0;34m(\u001b[0m\u001b[0mself\u001b[0m\u001b[0;34m)\u001b[0m\u001b[0;34m,\u001b[0m \u001b[0mag__\u001b[0m\u001b[0;34m.\u001b[0m\u001b[0mld\u001b[0m\u001b[0;34m(\u001b[0m\u001b[0miterator\u001b[0m\u001b[0;34m)\u001b[0m\u001b[0;34m)\u001b[0m\u001b[0;34m,\u001b[0m \u001b[0;32mNone\u001b[0m\u001b[0;34m,\u001b[0m \u001b[0mfscope\u001b[0m\u001b[0;34m)\u001b[0m\u001b[0;34m\u001b[0m\u001b[0;34m\u001b[0m\u001b[0m\n\u001b[0m\u001b[1;32m     16\u001b[0m                 \u001b[0;32mexcept\u001b[0m\u001b[0;34m:\u001b[0m\u001b[0;34m\u001b[0m\u001b[0;34m\u001b[0m\u001b[0m\n\u001b[1;32m     17\u001b[0m                     \u001b[0mdo_return\u001b[0m \u001b[0;34m=\u001b[0m \u001b[0;32mFalse\u001b[0m\u001b[0;34m\u001b[0m\u001b[0;34m\u001b[0m\u001b[0m\n",
            "\u001b[0;31mValueError\u001b[0m: in user code:\n\n    File \"/usr/local/lib/python3.10/dist-packages/keras/src/engine/training.py\", line 2440, in predict_function  *\n        return step_function(self, iterator)\n    File \"/usr/local/lib/python3.10/dist-packages/keras/src/engine/training.py\", line 2425, in step_function  **\n        outputs = model.distribute_strategy.run(run_step, args=(data,))\n    File \"/usr/local/lib/python3.10/dist-packages/keras/src/engine/training.py\", line 2413, in run_step  **\n        outputs = model.predict_step(data)\n    File \"/usr/local/lib/python3.10/dist-packages/keras/src/engine/training.py\", line 2381, in predict_step\n        return self(x, training=False)\n    File \"/usr/local/lib/python3.10/dist-packages/keras/src/utils/traceback_utils.py\", line 70, in error_handler\n        raise e.with_traceback(filtered_tb) from None\n    File \"/usr/local/lib/python3.10/dist-packages/keras/src/engine/input_spec.py\", line 219, in assert_input_compatibility\n        raise ValueError(\n\n    ValueError: Layer \"sequential\" expects 1 input(s), but it received 2 input tensors. Inputs received: [<tf.Tensor 'IteratorGetNext:0' shape=(None, 100) dtype=float32>, <tf.Tensor 'IteratorGetNext:1' shape=(None,) dtype=float32>]\n"
          ]
        }
      ]
    },
    {
      "cell_type": "code",
      "source": [
        "# Access the analyzer results\n",
        "analyzer_results = cerebro.runstrats[0][0].analyzers.myanalyzer.get_analysis()\n",
        "pnlhist = pd.Series(analyzer_results[\"pnl\"])"
      ],
      "metadata": {
        "id": "Uhe20L2zHVNk"
      },
      "execution_count": null,
      "outputs": []
    },
    {
      "cell_type": "code",
      "source": [
        "# Assuming you already have pnlhist as your Pandas Series\n",
        "initial_balance = pnlhist.iloc[0]  # Initial balance\n",
        "final_balance = pnlhist.iloc[-1]  # Final balance\n",
        "\n",
        "# Plotting the P&L data\n",
        "plt.figure(figsize=(18, 2))\n",
        "plt.plot(pnlhist.index, pnlhist.values, label='P&L', color='blue')\n",
        "\n",
        "# Adding a white background bounding box for the initial and final balance labels with reduced opacity\n",
        "bbox_props = dict(boxstyle='round,pad=0.3', edgecolor='green', facecolor='white', alpha=1)  # Adjust alpha here\n",
        "\n",
        "# Initial balance label\n",
        "plt.annotate(f'Initial Balance: ${initial_balance:.2f}', (pnlhist.index[0], initial_balance),\n",
        "             textcoords='offset points', xytext=(10, 10), fontsize=12,\n",
        "             bbox=bbox_props, color='green')\n",
        "\n",
        "# Final balance label\n",
        "plt.annotate(f'Final Balance: ${final_balance:.2f}', (pnlhist.index[-1], final_balance),\n",
        "             textcoords='offset points', xytext=(10, 10), fontsize=12,\n",
        "             bbox=bbox_props, color='red')\n",
        "\n",
        "# Adding a trend line (linear regression line)\n",
        "x = np.arange(len(pnlhist))\n",
        "coefficients = np.polyfit(x, pnlhist.values, 1)\n",
        "trend_line = np.poly1d(coefficients)\n",
        "plt.plot(pnlhist.index, trend_line(x), label='Trend Line', color='orange')\n",
        "\n",
        "plt.xlabel('Date')\n",
        "plt.ylabel('P&L')\n",
        "plt.title('Strategy P&L Over Time')\n",
        "plt.legend()\n",
        "plt.grid(True)\n",
        "\n",
        "# Show the plot\n",
        "plt.show()"
      ],
      "metadata": {
        "id": "7bsHC4LfHXyG"
      },
      "execution_count": null,
      "outputs": []
    },
    {
      "cell_type": "markdown",
      "source": [],
      "metadata": {
        "id": "udT-ZjdeHZsO"
      }
    },
    {
      "cell_type": "code",
      "source": [
        "%matplotlib inline\n",
        "plt.rcParams['figure.figsize'] = [18, 8]\n",
        "\n",
        "print(cerebro.observers)\n",
        "\n",
        "# Run the Backtrader engine without plotting\n",
        "cerebro.plot(iplot=False)"
      ],
      "metadata": {
        "id": "jE2JvXWJHaHE"
      },
      "execution_count": null,
      "outputs": []
    }
  ]
}